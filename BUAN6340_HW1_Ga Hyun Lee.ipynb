{
 "cells": [
  {
   "cell_type": "markdown",
   "metadata": {},
   "source": [
    "# Assignment 1 \n",
    "## Programming for Data Science (BUAN 6340)\n",
    "\n",
    "### <font color='red'>Due Date: September 22, 2019 11:59pm</font> "
   ]
  },
  {
   "cell_type": "markdown",
   "metadata": {},
   "source": [
    "Deliverables:\n",
    "\n",
    "- Write down your codes in the given cells described in this file, denoted as \"YOUR CODE HERE\"\n",
    "- Use \"download as\" in the \"file\" menu to convert your ipython file to a .html file\n",
    "- Submit both .ipynb and .html files to the eLearning (you might need to compress them into one single file)\n",
    "\n",
    "\n",
    "This assignment covers Python Basics\n",
    "\n",
    "\n",
    "The total score: 100"
   ]
  },
  {
   "cell_type": "code",
   "execution_count": 1,
   "metadata": {},
   "outputs": [],
   "source": [
    "NAME = \"Ga Hyun Lee\"\n",
    "Session = \"6340.003\""
   ]
  },
  {
   "cell_type": "markdown",
   "metadata": {},
   "source": [
    "## Q1 (30 points)\n",
    "\n",
    "Write a Python program to convert temperatures to and from Celsius, Fahrenheit. \n",
    "\n",
    "In the program, you will allow users to enter a temperature followed with either 'C' or 'F' (e.g., 60C, 45F). (Hint: you need to detect whether a user enters Celsius or Fahrenheit and then do corresponding calcualations)\n",
    "\n",
    "Formula : c/5 = (f-32)/9, where c = temperature in Celsius and f = temperature in Fahrenheit \n",
    "\n",
    "Expected Output : \n",
    "- 60C is 140 in Fahrenheit\n",
    "- 45F is 7 in Celsius \n"
   ]
  },
  {
   "cell_type": "code",
   "execution_count": 2,
   "metadata": {},
   "outputs": [
    {
     "name": "stdout",
     "output_type": "stream",
     "text": [
      "Please input any tempertures in Celicus or Fahrenheit (e.g. 40C or 20F): \n",
      "15\n",
      "Please input any tempertures in Celicus or Fahrenheit (e.g. 40C or 20F): \n",
      "15g\n",
      "Please input any tempertures in Celicus or Fahrenheit (e.g. 40C or 20F): \n",
      "15c\n",
      "15.0C is 59.0 in Fahrenheit.\n"
     ]
    }
   ],
   "source": [
    "#### Your codes here\n",
    "\n",
    "import re\n",
    "\n",
    "while True:\n",
    "    tempRegex = re.compile(r'\\d+(\\.)?(\\d*)?[c,f,C,F]')\n",
    "    print(\"Please input any tempertures in Celicus or Fahrenheit (e.g. 40C or 20F): \")\n",
    "    temp = input()\n",
    "    if tempRegex.match(temp):\n",
    "        if 'C' in temp.upper():\n",
    "            tempC = float(temp[:-1])\n",
    "            tempC_in_F = round((tempC/5)*9+32,1)\n",
    "            print('{}C is {} in Fahrenheit.'.format(tempC, tempC_in_F))\n",
    "            break\n",
    "        elif 'F' in temp.upper():\n",
    "            tempF = float(temp[:-1])\n",
    "            tempF_in_C = round(((tempF-32)/9)*5,1)\n",
    "            print('{}F is {} in Celcius.'.format(tempF, tempF_in_C))\n",
    "            break\n",
    "        else:\n",
    "            print('Please enter the right form of the temperature')\n"
   ]
  },
  {
   "cell_type": "markdown",
   "metadata": {},
   "source": [
    "## Q2 (30 points)\n",
    "\n",
    "Define a function that\n",
    "- gets a sequence of comma-separated numbers from the user as its argument\n",
    "- transforms it to a list\n",
    "- adds the maximum and minimum numbers of the list (Hint: you need to make sure the items are numeric)\n",
    "- returns the sum\n"
   ]
  },
  {
   "cell_type": "code",
   "execution_count": 3,
   "metadata": {},
   "outputs": [
    {
     "name": "stdout",
     "output_type": "stream",
     "text": [
      "Please enter a sequence of comma-seperated numbers in integer (e.g. 3,4,1,5,3) : \n",
      "1,2,u\n",
      "Please enter the right form of a sequence.\n",
      "Please enter a sequence of comma-seperated numbers in integer (e.g. 3,4,1,5,3) : \n",
      "1,2, 4\n"
     ]
    },
    {
     "data": {
      "text/plain": [
       "5"
      ]
     },
     "execution_count": 3,
     "metadata": {},
     "output_type": "execute_result"
    }
   ],
   "source": [
    "# Your codes here\n",
    "def to_numeric(mylst):\n",
    "    a=0\n",
    "    for i in mylst:\n",
    "        mylst[a] = int(mylst[a])\n",
    "        a = a+1\n",
    "    return mylst\n",
    "\n",
    "import re\n",
    "listRegex = re.compile(r'(\\d+\\,(\\s)?)+\\d+$')\n",
    "\n",
    "def my_function(what):\n",
    "    while True:\n",
    "        if listRegex.match(what):\n",
    "            a_list = what.split(',')\n",
    "            a_list = to_numeric(a_list)\n",
    "            my_sum = max(a_list) + min(a_list)\n",
    "            return my_sum\n",
    "            break\n",
    "        else: \n",
    "            print('Please enter the right form of a sequence.')\n",
    "            what = input('Please enter a sequence of comma-seperated numbers in integer (e.g. 3,4,1,5,3) : \\n')\n",
    "\n",
    "            #r'(\\(\\d{3}\\))?\\d{3}-\\d{4}'\n",
    "\n",
    "my_input = input('Please enter a sequence of comma-seperated numbers in integer (e.g. 3,4,1,5,3) : \\n')\n",
    "my_function(my_input)\n"
   ]
  },
  {
   "cell_type": "code",
   "execution_count": 6,
   "metadata": {},
   "outputs": [
    {
     "name": "stdout",
     "output_type": "stream",
     "text": [
      "Please enter a sequence of comma-seperated numbers in integer (e.g. 3,4,1,5,3) : \n",
      "1, 2, u\n",
      "Please enter the right form of a sequence.\n",
      "Please enter a sequence of comma-seperated numbers in integer (e.g. 3,4,1,5,3) : \n",
      "1, 2,5\n",
      "New List after appending Min and Max again: [1, 2, 5, 1, 5]\n"
     ]
    },
    {
     "data": {
      "text/plain": [
       "14"
      ]
     },
     "execution_count": 6,
     "metadata": {},
     "output_type": "execute_result"
    }
   ],
   "source": [
    "# Your codes here\n",
    "\n",
    "### This is my second code.\n",
    "###  When one of the classmates asked about this question in class, \n",
    "###  Professor answered that we need to append the min and max of the list to the list, and then get the sum of the whole list.\n",
    "###  Since I am not sure what Professor wants, I am adding this answer as well to my answer above.\n",
    "\n",
    "def to_numeric(mylst):\n",
    "    a=0\n",
    "    for i in mylst:\n",
    "        mylst[a] = int(mylst[a])\n",
    "        a = a+1\n",
    "    return mylst\n",
    "\n",
    "import re\n",
    "listRegex = re.compile(r'(\\d+\\,(\\s)?)+\\d+$')\n",
    "\n",
    "def my_function(what):\n",
    "    while True:\n",
    "        if listRegex.match(what):\n",
    "            a_list = what.split(',')\n",
    "            a_list = to_numeric(a_list)\n",
    "            a_min = min(a_list)\n",
    "            a_max = max(a_list)\n",
    "            a_list.append(a_min)\n",
    "            a_list.append(a_max)\n",
    "            #my_sum = max(a_list) + min(a_list)\n",
    "            print('New List after appending Min and Max again:', a_list)\n",
    "            return sum(a_list)\n",
    "            break\n",
    "        else: \n",
    "            print('Please enter the right form of a sequence.')\n",
    "            what = input('Please enter a sequence of comma-seperated numbers in integer (e.g. 3,4,1,5,3) : \\n')\n",
    "\n",
    "            \n",
    "\n",
    "my_input = input('Please enter a sequence of comma-seperated numbers in integer (e.g. 3,4,1,5,3) : \\n')\n",
    "my_function(my_input)"
   ]
  },
  {
   "cell_type": "markdown",
   "metadata": {},
   "source": [
    "## Q3 (25 points)\n",
    "\n",
    "Write a function and use regular expressions to make sure the password a user enters is a strong password.\n",
    "\n",
    "Notes:\n",
    "- Users should keep entering the password until it is strong\n",
    "- The password should contain: (1) at least 8 characters; (2) uppercase character(s); (3) lowercase character(s); and (4) at least one digit. \n",
    "- You may need to test the string against multiple regex patterns to validate its strength.\n"
   ]
  },
  {
   "cell_type": "code",
   "execution_count": 8,
   "metadata": {},
   "outputs": [
    {
     "name": "stdout",
     "output_type": "stream",
     "text": [
      "Please enter a password: \n",
      "  The password should contain: \n",
      "(1) at least 8 characters; \n",
      "(2) uppercase character(s); \n",
      "(3) lowercase character(s); and \n",
      "(4) at least one digit.\n",
      "\n",
      "1U2u\n",
      "Your password does not match all the requirements.\n",
      "Please try again!\n",
      "Please enter a password: \n",
      "  The password should contain: \n",
      "(1) at least 8 characters; \n",
      "(2) uppercase character(s); \n",
      "(3) lowercase character(s); and \n",
      "(4) at least one digit.\n",
      "\n",
      "1U1U1U!\n",
      "Your password does not match all the requirements.\n",
      "Please try again!\n",
      "Please enter a password: \n",
      "  The password should contain: \n",
      "(1) at least 8 characters; \n",
      "(2) uppercase character(s); \n",
      "(3) lowercase character(s); and \n",
      "(4) at least one digit.\n",
      "\n",
      "1U1U1U1U\n",
      "Your password does not match all the requirements.\n",
      "Please try again!\n",
      "Please enter a password: \n",
      "  The password should contain: \n",
      "(1) at least 8 characters; \n",
      "(2) uppercase character(s); \n",
      "(3) lowercase character(s); and \n",
      "(4) at least one digit.\n",
      "\n",
      "1uuuuu111\n",
      "Your password does not match all the requirements.\n",
      "Please try again!\n",
      "Please enter a password: \n",
      "  The password should contain: \n",
      "(1) at least 8 characters; \n",
      "(2) uppercase character(s); \n",
      "(3) lowercase character(s); and \n",
      "(4) at least one digit.\n",
      "\n",
      "1uuuUUU11\n",
      "Good! Your password is strong enough!\n"
     ]
    }
   ],
   "source": [
    "# Your codes here\n",
    "\n",
    "### For this question, I understood condition \"(1) at least 8 characters\" \n",
    "### as not just the number of alphabets, but the length of password.\n",
    "### I am clarifying this because in the question, 'character' in condition (2) and (3) \n",
    "### seems to mean that uppercase letters and lowercase letters.\n",
    "\n",
    "import re\n",
    "\n",
    "def check_pw(password):\n",
    "    pw_Regex = re.compile(r'^(?=.*[\\d])(?=.*[A-Z])(?=.*[a-z])[\\w\\d]{8,}$')\n",
    "    while True:\n",
    "        if pw_Regex.match(password):\n",
    "            print ('Good! Your password is strong enough!')\n",
    "            break\n",
    "        else:\n",
    "            print ('Your password does not match all the requirements.\\nPlease try again!')\n",
    "            password = input('Please enter a password: \\n  The password should contain: \\n(1) at least 8 characters; \\n(2) uppercase character(s); \\n(3) lowercase character(s); and \\n(4) at least one digit.\\n\\n')\n",
    "\n",
    "user_input = input('Please enter a password: \\n  The password should contain: \\n(1) at least 8 characters; \\n(2) uppercase character(s); \\n(3) lowercase character(s); and \\n(4) at least one digit.\\n\\n')\n",
    "check_pw(user_input)\n"
   ]
  },
  {
   "cell_type": "markdown",
   "metadata": {},
   "source": [
    "## Q4 (15 points)\n",
    "\n",
    "Write a program to generate the Fibonacci seqence given the total length of the list.\n",
    "\n",
    "Hint: The Fibonacci seqence is a sequence of numbers where the next number in the sequence is the sum of the previous two numbers in the sequence. The sequence looks like this: 1, 1, 2, 3, 5, 8, 13, …\n"
   ]
  },
  {
   "cell_type": "code",
   "execution_count": 9,
   "metadata": {},
   "outputs": [
    {
     "name": "stdout",
     "output_type": "stream",
     "text": [
      "Please enter the total length of the list: 12\n",
      "[1, 1, 2, 3, 5, 8, 13, 21, 34, 55, 89, 144]\n"
     ]
    }
   ],
   "source": [
    "## Your codes here\n",
    "\n",
    "### since the question asked for program, not a function, I just wrote a program.\n",
    "\n",
    "import re\n",
    "num_of_listRegex = re.compile(r'\\d+')\n",
    "\n",
    "mylst = [1]\n",
    "n = int(input('Please enter the total length of the list: '))\n",
    "\n",
    "while True:\n",
    "    if n > 2:\n",
    "        mylst.append(1)\n",
    "        for i in range(n-2):\n",
    "            next_num = mylst[i]+ mylst[i+1]\n",
    "            mylst.append(next_num)\n",
    "        print(mylst)\n",
    "        break\n",
    "    elif n == 2:\n",
    "        mylst.append(1)\n",
    "        print(mylst)\n",
    "        break\n",
    "    elif n == 1:\n",
    "        print (mylst)\n",
    "        break\n",
    "    else:\n",
    "        print('Please enter a positive integer.')\n",
    "        n = int(input('Please enter the total length of the list: '))\n"
   ]
  }
 ],
 "metadata": {
  "kernelspec": {
   "display_name": "Python 3",
   "language": "python",
   "name": "python3"
  },
  "language_info": {
   "codemirror_mode": {
    "name": "ipython",
    "version": 3
   },
   "file_extension": ".py",
   "mimetype": "text/x-python",
   "name": "python",
   "nbconvert_exporter": "python",
   "pygments_lexer": "ipython3",
   "version": "3.7.1"
  }
 },
 "nbformat": 4,
 "nbformat_minor": 2
}
